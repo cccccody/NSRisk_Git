{
 "cells": [
  {
   "cell_type": "code",
   "execution_count": 1,
   "metadata": {},
   "outputs": [],
   "source": [
    "import pandas as pd \n",
    "import numpy as np"
   ]
  },
  {
   "cell_type": "markdown",
   "metadata": {},
   "source": [
    "${\\bf In Defense of VaR}$: \n",
    "\n",
    "People like to criticize value at risk, and there has been a big push from certain quarters to favor expected shortfall (aka ES, conditional VaR, or cVaR) over VaR. I think this push is misguided (VaR is not as bad as they make it out to be and ES has its own shortcomings). \n",
    " \n",
    "For this article I wanted to look at how the ratio of ES over VaR changes over time. I suspect most practitioners expect this ratio to increase in stress environments (ES is supposed to tell us a lot about the shape of tails; we associate stress environments with tail risk; therefore ES should \"light up\" more in a stress environment than VaR). I wonder if the opposite is not true.\n",
    " \n",
    "To start, we could look at  realized VaR and ES for the S&P 500 in each calendar year from 1995 to present (you'd have at least three big market declines: tech bubble bursting in 1999, financial crisis in 2008, and current market). Depending on initial results, we could look at other indices (other countries, other asset classes) and/or hypothetical long/short portfolios.\n",
    " \n",
    "VaR to optimal VaR Ratio\n",
    "The most common way to backtest VaR models is to count the number of exceedances, which follow a binomial distribution. This test requires no assumptions (or no strong assumptions) and is very easy to compute. Unfortunately it is not very intuitive for non-quants.\n",
    " \n",
    "One alternative that we have been considering would answer the following question: by what constant would I have had to multiply my VaR forecasts to have exactly the right number of exceedances? For example, if my VaR forecast over the past year was too low, I would see too many exceedances, but if I had multiplied all of my forecasts by 1.23x I would have had exactly the right number. That 1.23x would be our\"VaR to optimal VaR ratio\".\n"
   ]
  },
  {
   "cell_type": "code",
   "execution_count": null,
   "metadata": {},
   "outputs": [],
   "source": []
  }
 ],
 "metadata": {
  "language_info": {
   "codemirror_mode": {
    "name": "ipython",
    "version": 3
   },
   "file_extension": ".py",
   "mimetype": "text/x-python",
   "name": "python",
   "nbconvert_exporter": "python",
   "pygments_lexer": "ipython3",
   "version": "3.7.6-final"
  },
  "orig_nbformat": 2,
  "kernelspec": {
   "name": "python37664bitbaseconda19daccaab569477d9dec399eeb89c3e8",
   "display_name": "Python 3.7.6 64-bit ('base': conda)"
  }
 },
 "nbformat": 4,
 "nbformat_minor": 2
}