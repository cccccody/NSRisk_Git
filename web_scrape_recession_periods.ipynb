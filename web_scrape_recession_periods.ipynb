{
 "cells": [
  {
   "cell_type": "code",
   "execution_count": 3,
   "metadata": {},
   "outputs": [],
   "source": [
    "import pandas as pd\n",
    "import requests\n",
    "import lxml.html as lh"
   ]
  },
  {
   "cell_type": "code",
   "execution_count": 8,
   "metadata": {},
   "outputs": [],
   "source": [
    "dfs = pd.read_html('http://en.wikipedia.org/wiki/List_of_recessions_in_the_United_States', match='Period Range')"
   ]
  },
  {
   "cell_type": "code",
   "execution_count": 9,
   "metadata": {},
   "outputs": [
    {
     "output_type": "execute_result",
     "data": {
      "text/plain": "                                          Name          Period Range  \\\n0                             Great Depression     Aug 1929–Mar 1933   \n1                       Recession of 1937–1938                   NaN   \n2                            Recession of 1945                   NaN   \n3                            Recession of 1949                   NaN   \n4                            Recession of 1953                   NaN   \n5                            Recession of 1958                   NaN   \n6                         Recession of 1960–61                   NaN   \n7                         Recession of 1969–70                   NaN   \n8                            1973–75 recession                   NaN   \n9                               1980 recession                   NaN   \n10                         1981–1982 recession                   NaN   \n11  Early 1990s recession in the United States                   NaN   \n12                       Early 2000s recession                   NaN   \n13                             Great Recession              [74][75]   \n14                                COVID Crisis  Mar 2020–present[80]   \n\n   Duration (months) Time since previous recession (months)  \\\n0           7 months                               9 months   \n1            1 month                               2 months   \n2                NaN                               8 months   \n3                NaN                                1 month   \n4                NaN                               9 months   \n5                NaN                               3 months   \n6                NaN                                    NaN   \n7                NaN                              10 months   \n8           4 months                                    NaN   \n9                NaN                              10 months   \n10          4 months                                    NaN   \n11               NaN                               8 months   \n12               NaN                                    NaN   \n13          6 months                                1 month   \n14               NaN                               3 months   \n\n       Peak unemploy­ment GDP decline (peak to trough)  \\\n0   [50]– 24.9%(1933)[51]                          NaN   \n1   [50]– 19.0%(1938)[57]                          NaN   \n2              [57](1946)                          NaN   \n3              (Oct 1949)                          NaN   \n4              (Sep 1954)                          NaN   \n5             (July 1958)                          NaN   \n6              (May 1961)                          NaN   \n7              (Dec 1970)                          NaN   \n8              (May 1975)                          NaN   \n9             (July 1980)                          NaN   \n10             (Nov 1982)                          NaN   \n11            (June 1992)                          NaN   \n12            (June 2003)                          NaN   \n13     (October 2009)[76]                         [77]   \n14                    NaN                          NaN   \n\n                                      Characteristics  \n0   A banking panic and a collapse in the money su...  \n1   The Recession of 1937 is only considered minor...  \n2   The decline in government spending at the end ...  \n3   The 1948 recession was a brief economic downtu...  \n4   After a post-Korean War inflationary period, m...  \n5   Monetary policy was tightened during the two y...  \n6   Another primarily monetary recession occurred ...  \n7   The relatively mild 1969 recession followed a ...  \n8   The 1973 oil crisis, a quadrupling of oil pric...  \n9   The NBER considers a very short recession to h...  \n10  The Iranian Revolution sharply increased the p...  \n11  After the lengthy peacetime expansion of the 1...  \n12  The 1990s once were the longest period of grow...  \n13  The subprime mortgage crisis led to the collap...  \n14  Since the middle of 2017, global growth has sl...  ",
      "text/html": "<div>\n<style scoped>\n    .dataframe tbody tr th:only-of-type {\n        vertical-align: middle;\n    }\n\n    .dataframe tbody tr th {\n        vertical-align: top;\n    }\n\n    .dataframe thead th {\n        text-align: right;\n    }\n</style>\n<table border=\"1\" class=\"dataframe\">\n  <thead>\n    <tr style=\"text-align: right;\">\n      <th></th>\n      <th>Name</th>\n      <th>Period Range</th>\n      <th>Duration (months)</th>\n      <th>Time since previous recession (months)</th>\n      <th>Peak unemploy­ment</th>\n      <th>GDP decline (peak to trough)</th>\n      <th>Characteristics</th>\n    </tr>\n  </thead>\n  <tbody>\n    <tr>\n      <th>0</th>\n      <td>Great Depression</td>\n      <td>Aug 1929–Mar 1933</td>\n      <td>7 months</td>\n      <td>9 months</td>\n      <td>[50]– 24.9%(1933)[51]</td>\n      <td>NaN</td>\n      <td>A banking panic and a collapse in the money su...</td>\n    </tr>\n    <tr>\n      <th>1</th>\n      <td>Recession of 1937–1938</td>\n      <td>NaN</td>\n      <td>1 month</td>\n      <td>2 months</td>\n      <td>[50]– 19.0%(1938)[57]</td>\n      <td>NaN</td>\n      <td>The Recession of 1937 is only considered minor...</td>\n    </tr>\n    <tr>\n      <th>2</th>\n      <td>Recession of 1945</td>\n      <td>NaN</td>\n      <td>NaN</td>\n      <td>8 months</td>\n      <td>[57](1946)</td>\n      <td>NaN</td>\n      <td>The decline in government spending at the end ...</td>\n    </tr>\n    <tr>\n      <th>3</th>\n      <td>Recession of 1949</td>\n      <td>NaN</td>\n      <td>NaN</td>\n      <td>1 month</td>\n      <td>(Oct 1949)</td>\n      <td>NaN</td>\n      <td>The 1948 recession was a brief economic downtu...</td>\n    </tr>\n    <tr>\n      <th>4</th>\n      <td>Recession of 1953</td>\n      <td>NaN</td>\n      <td>NaN</td>\n      <td>9 months</td>\n      <td>(Sep 1954)</td>\n      <td>NaN</td>\n      <td>After a post-Korean War inflationary period, m...</td>\n    </tr>\n    <tr>\n      <th>5</th>\n      <td>Recession of 1958</td>\n      <td>NaN</td>\n      <td>NaN</td>\n      <td>3 months</td>\n      <td>(July 1958)</td>\n      <td>NaN</td>\n      <td>Monetary policy was tightened during the two y...</td>\n    </tr>\n    <tr>\n      <th>6</th>\n      <td>Recession of 1960–61</td>\n      <td>NaN</td>\n      <td>NaN</td>\n      <td>NaN</td>\n      <td>(May 1961)</td>\n      <td>NaN</td>\n      <td>Another primarily monetary recession occurred ...</td>\n    </tr>\n    <tr>\n      <th>7</th>\n      <td>Recession of 1969–70</td>\n      <td>NaN</td>\n      <td>NaN</td>\n      <td>10 months</td>\n      <td>(Dec 1970)</td>\n      <td>NaN</td>\n      <td>The relatively mild 1969 recession followed a ...</td>\n    </tr>\n    <tr>\n      <th>8</th>\n      <td>1973–75 recession</td>\n      <td>NaN</td>\n      <td>4 months</td>\n      <td>NaN</td>\n      <td>(May 1975)</td>\n      <td>NaN</td>\n      <td>The 1973 oil crisis, a quadrupling of oil pric...</td>\n    </tr>\n    <tr>\n      <th>9</th>\n      <td>1980 recession</td>\n      <td>NaN</td>\n      <td>NaN</td>\n      <td>10 months</td>\n      <td>(July 1980)</td>\n      <td>NaN</td>\n      <td>The NBER considers a very short recession to h...</td>\n    </tr>\n    <tr>\n      <th>10</th>\n      <td>1981–1982 recession</td>\n      <td>NaN</td>\n      <td>4 months</td>\n      <td>NaN</td>\n      <td>(Nov 1982)</td>\n      <td>NaN</td>\n      <td>The Iranian Revolution sharply increased the p...</td>\n    </tr>\n    <tr>\n      <th>11</th>\n      <td>Early 1990s recession in the United States</td>\n      <td>NaN</td>\n      <td>NaN</td>\n      <td>8 months</td>\n      <td>(June 1992)</td>\n      <td>NaN</td>\n      <td>After the lengthy peacetime expansion of the 1...</td>\n    </tr>\n    <tr>\n      <th>12</th>\n      <td>Early 2000s recession</td>\n      <td>NaN</td>\n      <td>NaN</td>\n      <td>NaN</td>\n      <td>(June 2003)</td>\n      <td>NaN</td>\n      <td>The 1990s once were the longest period of grow...</td>\n    </tr>\n    <tr>\n      <th>13</th>\n      <td>Great Recession</td>\n      <td>[74][75]</td>\n      <td>6 months</td>\n      <td>1 month</td>\n      <td>(October 2009)[76]</td>\n      <td>[77]</td>\n      <td>The subprime mortgage crisis led to the collap...</td>\n    </tr>\n    <tr>\n      <th>14</th>\n      <td>COVID Crisis</td>\n      <td>Mar 2020–present[80]</td>\n      <td>NaN</td>\n      <td>3 months</td>\n      <td>NaN</td>\n      <td>NaN</td>\n      <td>Since the middle of 2017, global growth has sl...</td>\n    </tr>\n  </tbody>\n</table>\n</div>"
     },
     "metadata": {},
     "execution_count": 9
    }
   ],
   "source": [
    "dfs[0]"
   ]
  },
  {
   "cell_type": "code",
   "execution_count": null,
   "metadata": {},
   "outputs": [],
   "source": []
  }
 ],
 "metadata": {
  "language_info": {
   "codemirror_mode": {
    "name": "ipython",
    "version": 3
   },
   "file_extension": ".py",
   "mimetype": "text/x-python",
   "name": "python",
   "nbconvert_exporter": "python",
   "pygments_lexer": "ipython3",
   "version": "3.7.6-final"
  },
  "orig_nbformat": 2,
  "kernelspec": {
   "name": "python37664bitbaseconda19daccaab569477d9dec399eeb89c3e8",
   "display_name": "Python 3.7.6 64-bit ('base': conda)"
  }
 },
 "nbformat": 4,
 "nbformat_minor": 2
}